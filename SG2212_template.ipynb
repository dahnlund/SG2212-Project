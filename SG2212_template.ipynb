{
 "cells": [
  {
   "cell_type": "markdown",
   "metadata": {},
   "source": [
    "# Project SG2212/SG3114\n",
    "\n",
    "Development of a Python code to solve the two-dimensional Navier-Stokes equations on a rectangular domain."
   ]
  },
  {
   "cell_type": "markdown",
   "metadata": {},
   "source": [
    "Import some relevant libraries:"
   ]
  },
  {
   "cell_type": "code",
   "execution_count": null,
   "metadata": {},
   "outputs": [],
   "source": [
    "%matplotlib notebook \n",
    "# possible options: notebook, inline or widget\n",
    "import numpy as np\n",
    "import matplotlib.pyplot as plt\n",
    "import matplotlib.pylab as pylab\n",
    "import matplotlib.animation\n",
    "import math \n",
    "import scipy.sparse as sp\n",
    "import scipy.linalg as scl\n",
    "from scipy.sparse.linalg import splu\n",
    "params = {'legend.fontsize': 12,\n",
    "          'legend.loc':'best',\n",
    "          'figure.figsize': (8,5),\n",
    "          'lines.markerfacecolor':'none',\n",
    "          'axes.labelsize': 12,\n",
    "          'axes.titlesize': 12,\n",
    "          'xtick.labelsize':12,\n",
    "          'ytick.labelsize':12,\n",
    "          'grid.alpha':0.6}\n",
    "pylab.rcParams.update(params)"
   ]
  },
  {
   "cell_type": "markdown",
   "metadata": {},
   "source": [
    "Some useful functions:"
   ]
  },
  {
   "cell_type": "code",
   "execution_count": null,
   "metadata": {},
   "outputs": [],
   "source": [
    "def avg(A,axis=0):\n",
    "    \"\"\"\n",
    "    Averaging function to go from cell centres (pressure nodes)\n",
    "    to cell corners (velocity nodes) and vice versa.\n",
    "    avg acts on index idim; default is idim=1.\n",
    "    \"\"\"\n",
    "    if (axis==0):\n",
    "        B = (A ....+ A.....)/2.\n",
    "    elif (axis==1):\n",
    "        B = (A..... + A.....)/2.\n",
    "    else:\n",
    "        raise ValueError('Wrong value for axis')\n",
    "    return B           \n",
    "\n",
    "def DD(n,h):\n",
    "    \"\"\"\n",
    "    One-dimensional finite-difference derivative matrix \n",
    "    of size n times n for second derivative:\n",
    "    h^2 * f''(x_j) = -f(x_j-1) + 2*f(x_j) - f(x_j+1)\n",
    "\n",
    "    Homogeneous Neumann boundary conditions on the boundaries \n",
    "    are imposed, i.e.\n",
    "    f(x_0) = f(x_1) \n",
    "    if the wall lies between x_0 and x_1. This gives then\n",
    "    h^2 * f''(x_j) = + f(x_0) - 2*f(x_1) + f(x_2)\n",
    "                   = + f(x_1) - 2*f(x_1) + f(x_2)\n",
    "                   =              f(x_1) + f(x_2)\n",
    "\n",
    "    For n=5 and h=1 the following result is obtained:\n",
    " \n",
    "    A =\n",
    "        -1     1     0     0     0\n",
    "         1    -2     1     0     0\n",
    "         0     1    -2     1     0\n",
    "         0     0     1    -2     1\n",
    "         0     0     0     1    -1\n",
    "    \"\"\"\n",
    "    data = np.concatenate( (np.array(...), np.ones( (n-2,1) ) @ np.array(....),np.array(....)))\n",
    "    diags = np.array(.....)\n",
    "    A = sp.spdiags(data.T, diags, n, n) / h**2\n",
    "    return A\n",
    "    \n",
    "# DD(5,1).toarray()"
   ]
  },
  {
   "cell_type": "markdown",
   "metadata": {},
   "source": [
    "Homemade version of Matlab tic and toc functions"
   ]
  },
  {
   "cell_type": "code",
   "execution_count": null,
   "metadata": {},
   "outputs": [],
   "source": [
    "def tic():\n",
    "    import time\n",
    "    global startTime_for_tictoc\n",
    "    startTime_for_tictoc = time.time()\n",
    "\n",
    "def toc():\n",
    "    import time\n",
    "    if 'startTime_for_tictoc' in globals():\n",
    "        print(\"Elapsed time is \" + str(time.time() - startTime_for_tictoc) + \" seconds.\")\n",
    "    else:\n",
    "        print(\"Toc: start time not set\")"
   ]
  },
  {
   "cell_type": "markdown",
   "metadata": {},
   "source": [
    "Simulation parameters:"
   ]
  },
  {
   "cell_type": "code",
   "execution_count": null,
   "metadata": {},
   "outputs": [],
   "source": [
    "Pr = 0.71\n",
    "Re = ....\n",
    "# Ri = 0. \n",
    "dt = .....\n",
    "Tf = 20\n",
    "Lx = 1.\n",
    "Ly = 1.\n",
    "Nx = ....\n",
    "Ny = .....\n",
    "namp = 0.\n",
    "ig = 200"
   ]
  },
  {
   "cell_type": "markdown",
   "metadata": {},
   "source": [
    "Discretisation in space and time, and definition of boundary conditions:"
   ]
  },
  {
   "cell_type": "code",
   "execution_count": null,
   "metadata": {},
   "outputs": [],
   "source": [
    "# number of iteratins\n",
    "Nit = ....\n",
    "# edge coordinates\n",
    "x = np.linspace(....)\n",
    "y = np.linspace(....)\n",
    "# grid spacing\n",
    "hx = ......\n",
    "hy = ......"
   ]
  },
  {
   "cell_type": "code",
   "execution_count": null,
   "metadata": {},
   "outputs": [],
   "source": [
    "# boundary conditions\n",
    "Utop = 1.; Ttop = 1.; Tbottom = 0.;\n",
    "uN = x*0 + Utop;  uN = uN[:,np.newaxis];    vN = avg(x)*0;    vN = vN[:,np.newaxis];\n",
    "uS = ....  uS = uS[:,np.newaxis];         vS = ....  vS = vS[:,np.newaxis];\n",
    "uW = avg(y)*0;  uW = uW[np.newaxis,:];       vW = ....   vW = vW[np.newaxis,:];\n",
    "uE = avg(y)*0;  uE = uE[np.newaxis,:];       vE = y*0;    vE = vE[np.newaxis,:];\n",
    "\n",
    "tN = ......  tS =....."
   ]
  },
  {
   "cell_type": "markdown",
   "metadata": {},
   "source": [
    "Pressure correction and pressure Poisson equation:"
   ]
  },
  {
   "cell_type": "code",
   "execution_count": null,
   "metadata": {},
   "outputs": [],
   "source": [
    "# Compute system matrices for pressure \n",
    "# Laplace operator on cell centres: Fxx + Fyy\n",
    "# First set homogeneous Neumann condition all around\n",
    "Lp = np.kron(....).toarray(),DD(.....).toarray()) + np.kron(.....).toarray(),sp.eye(.....).toarray());\n",
    "# Set one Dirichlet value to fix pressure in that point\n",
    "Lp[:,0] = ......; Lp[0,:] =.....; Lp[0,0] = .....;\n",
    "Lp_lu, Lp_piv = scl.lu_factor(Lp)\n",
    "Lps = sp.csc_matrix(Lp)\n",
    "Lps_lu = splu(Lps)"
   ]
  },
  {
   "cell_type": "markdown",
   "metadata": {},
   "source": [
    "Initial conditions:"
   ]
  },
  {
   "cell_type": "code",
   "execution_count": null,
   "metadata": {},
   "outputs": [],
   "source": [
    "U = np.zeros((Nx-1,Ny))\n",
    "V = np.zeros((Nx,Ny-1))\n",
    "T = .... + \\\n",
    "    namp*(np.random.rand(Nx,Ny)-0.5); "
   ]
  },
  {
   "cell_type": "markdown",
   "metadata": {},
   "source": [
    "Main time-integration loop. Write output file \"cavity.mp4\" if "
   ]
  },
  {
   "cell_type": "code",
   "execution_count": null,
   "metadata": {},
   "outputs": [],
   "source": [
    "if (ig>0):\n",
    "    metadata = dict(title='Lid-driven cavity', artist='SG2212')\n",
    "    writer = matplotlib.animation.FFMpegWriter(fps=15, metadata=metadata)\n",
    "    matplotlib.use(\"Agg\")\n",
    "    fig=plt.figure()\n",
    "    writer.setup(fig,\"cavity.mp4\",dpi=200)\n",
    "\n",
    "# progress bar\n",
    "print('[         |         |         |         |         ]')\n",
    "tic()\n",
    "for k in range(Nit):\n",
    "    # print(\"Iteration k=%i time=%.2e\" % (k,k*dt))\n",
    "\n",
    "    # include all boundary points for u and v (linear extrapolation\n",
    "    # for ghost cells) into extended array (Ue,Ve)\n",
    "    Ue = np.vstack((uW, U, uE)); Ue = np.hstack( (2*uS-Ue[:,0,np.newaxis], Ue, 2*uN-Ue[:,-1,np.newaxis]));\n",
    "    Ve = .....\n",
    "\n",
    "    # averaged (Ua,Va) of u and v on corners\n",
    "    Ua = .....\n",
    "    Va = ..... \n",
    "\n",
    "    #  construct individual parts of nonlinear terms\n",
    "    dUVdx = np.diff(....\n",
    "    dUVdy = ....\n",
    "    Ub    = avg( Ue[:,1:-1],0);   \n",
    "    Vb    = ....\n",
    "    dU2dx = np.diff( .... )/hx;\n",
    "    dV2dy = .....\n",
    "\n",
    "    # treat viscosity explicitly\n",
    "    viscu = np.diff( .....,axis=1,n=2 )/hy**2;\n",
    "    viscv = np.diff( .....,axis=0,n=2 )/hx**2;\n",
    "\n",
    "    # compose final nonlinear term + explicit viscous terms\n",
    "    U = U + ....\n",
    "    V = V + ....\n",
    "\n",
    "    # pressure correction, Dirichlet P=0 at (1,1)\n",
    "    rhs = (np.diff( ....)/hx + np.diff(.....),axis=1)/hy)/dt;\n",
    "    rhs = np.reshape(.....);\n",
    "    rhs[0] = 0;\n",
    "\n",
    "    # different ways of solving the pressure-Poisson equation:\n",
    "    P = Lps_lu.solve(....)\n",
    "\n",
    "    P = np.reshape(....\n",
    "\n",
    "    # apply pressure correction\n",
    "    U = U - dt*np.diff.....)/hx;\n",
    "    V = V - dt*np.diff(....)/hy; \n",
    "\n",
    "    # Temperature equation\n",
    "    ....\n",
    "\n",
    "    # do postprocessing to file\n",
    "    if (ig>0 and np.floor(k/ig)==k/ig):\n",
    "        plt.clf()\n",
    "        plt.contourf(avg(x),avg(y),T.T,levels=np.arange(0,1.05,0.05))\n",
    "        plt.gca().set_aspect(1.)\n",
    "        plt.colorbar()\n",
    "        plt.title(f'Temperature at t={k*dt:.2f}')\n",
    "        writer.grab_frame()\n",
    "\n",
    "    # update progress bar\n",
    "    if np.floor(51*k/Nit)>np.floor(51*(k-1)/Nit): \n",
    "        print('.',end='')\n",
    "\n",
    "# finalise progress bar\n",
    "print(' done. Iterations k=%i time=%.2f' % (k,k*dt))\n",
    "toc()\n",
    "\n",
    "if (ig>0):\n",
    "    writer.finish()"
   ]
  },
  {
   "cell_type": "markdown",
   "metadata": {},
   "source": [
    "Visualisation of the flow field at the end time:"
   ]
  },
  {
   "cell_type": "code",
   "execution_count": null,
   "metadata": {
    "scrolled": true
   },
   "outputs": [],
   "source": [
    "%matplotlib notebook \n",
    "\n",
    "Ua = np.hstack( (uS,avg(np.vstack((uW,U,uE)),1),uN));\n",
    "Va = np.vstack((vW,avg(np.hstack((vS,V,\n",
    "                                  vN)),0),vE));\n",
    "plt.figure()\n",
    "plt.contourf(x,y,np.sqrt(Ua**2+Va**2).T,20)\n",
    "plt.quiver(x,y,Ua.T,Va.T)\n",
    "plt.gca().set_aspect(1.)\n",
    "plt.colorbar()\n",
    "plt.title(f'Velocity at t={k*dt:.2f}')\n",
    "plt.show()"
   ]
  },
  {
   "cell_type": "code",
   "execution_count": null,
   "metadata": {},
   "outputs": [],
   "source": [
    "# compute divergence on cell centres\n",
    "div = (np.diff( np.vstack( (uW,U, uE)),axis=0)/hx + np.diff( np.hstack(( vS, V, vN)),axis=1)/hy)\n",
    "plt.figure()\n",
    "plt.pcolor(avg(x),avg(y),div.T,shading='nearest')\n",
    "plt.gca().set_aspect(1.)\n",
    "plt.colorbar()\n",
    "plt.title(f'Divergence at t={k*dt:.2f}')\n",
    "plt.show()"
   ]
  },
  {
   "cell_type": "markdown",
   "metadata": {},
   "source": [
    "## Analysis of the pressure Poisson equation:"
   ]
  },
  {
   "cell_type": "markdown",
   "metadata": {},
   "source": [
    "Matrix structure:"
   ]
  },
  {
   "cell_type": "code",
   "execution_count": null,
   "metadata": {},
   "outputs": [],
   "source": [
    "plt.figure()\n",
    "plt.spy(Lp)\n",
    "plt.show()"
   ]
  },
  {
   "cell_type": "markdown",
   "metadata": {},
   "source": [
    "Size, rank and null space:"
   ]
  },
  {
   "cell_type": "code",
   "execution_count": null,
   "metadata": {},
   "outputs": [],
   "source": [
    "Lp.shape"
   ]
  },
  {
   "cell_type": "code",
   "execution_count": null,
   "metadata": {},
   "outputs": [],
   "source": [
    "np.linalg.matrix_rank(Lp)"
   ]
  },
  {
   "cell_type": "code",
   "execution_count": null,
   "metadata": {},
   "outputs": [],
   "source": [
    "scl.null_space(Lp)"
   ]
  },
  {
   "cell_type": "code",
   "execution_count": null,
   "metadata": {},
   "outputs": [],
   "source": []
  },
  {
   "cell_type": "code",
   "execution_count": null,
   "metadata": {},
   "outputs": [],
   "source": []
  }
 ],
 "metadata": {
  "kernelspec": {
   "display_name": "Python 3 (ipykernel)",
   "language": "python",
   "name": "python3"
  },
  "language_info": {
   "codemirror_mode": {
    "name": "ipython",
    "version": 3
   },
   "file_extension": ".py",
   "mimetype": "text/x-python",
   "name": "python",
   "nbconvert_exporter": "python",
   "pygments_lexer": "ipython3",
   "version": "3.9.7"
  }
 },
 "nbformat": 4,
 "nbformat_minor": 1
}
